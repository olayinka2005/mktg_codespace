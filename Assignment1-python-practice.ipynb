{
 "cells": [
  {
   "cell_type": "markdown",
   "metadata": {},
   "source": [
    "# Python Practice (Marketing Analytics)"
   ]
  },
  {
   "cell_type": "markdown",
   "metadata": {},
   "source": [
    "## Q1\n",
    "\n",
    "Complete the cell below by adding the following steps:\n",
    "\n",
    "1. Convert y to an integer\n",
    "2. Compute x + y\n",
    "3. Print the result"
   ]
  },
  {
   "cell_type": "code",
   "execution_count": 4,
   "metadata": {},
   "outputs": [],
   "source": [
    "x = 5\n",
    "y = int('10')"
   ]
  },
  {
   "cell_type": "markdown",
   "metadata": {},
   "source": [
    "## Q2\n",
    "\n",
    "Complete the cell below to compute the boolean value of the comparison m > n \n"
   ]
  },
  {
   "cell_type": "code",
   "execution_count": 5,
   "metadata": {},
   "outputs": [
    {
     "data": {
      "text/plain": [
       "False"
      ]
     },
     "execution_count": 5,
     "metadata": {},
     "output_type": "execute_result"
    }
   ],
   "source": [
    "m = 20\n",
    "n = 50\n",
    "# Boolean Values\n",
    "True\n",
    "False\n",
    "m>n"
   ]
  },
  {
   "cell_type": "markdown",
   "metadata": {},
   "source": [
    "## Q3\n",
    "\n",
    "Identify the error in the following code and provide a corrected version."
   ]
  },
  {
   "cell_type": "code",
   "execution_count": 7,
   "metadata": {},
   "outputs": [
    {
     "name": "stdout",
     "output_type": "stream",
     "text": [
      "42.5 Hello\n",
      "42.5Hello\n"
     ]
    }
   ],
   "source": [
    "a = 42.5\n",
    "b = \"Hello\"\n",
    "print(a, b)\n",
    "print (str(a)+b)"
   ]
  },
  {
   "cell_type": "markdown",
   "metadata": {},
   "source": [
    "## Q4\n",
    "\n",
    "Write a function that checks if a number is greater than 50. Return True if it is, and False otherwise."
   ]
  },
  {
   "cell_type": "code",
   "execution_count": 10,
   "metadata": {},
   "outputs": [
    {
     "name": "stdout",
     "output_type": "stream",
     "text": [
      "True\n",
      "False\n"
     ]
    }
   ],
   "source": [
    "def is_greater_than_50(my_num):\n",
    "    return my_num > 50\n",
    "    # finish the code here\n",
    "\n",
    "# Example usage:\n",
    "print(is_greater_than_50(75))  # True\n",
    "print(is_greater_than_50(25))  # False"
   ]
  },
  {
   "cell_type": "markdown",
   "metadata": {},
   "source": [
    "## Q5\n",
    "\n",
    "Given a list of numbers, \"numbers\", write code to print whether each number is greater than or equal to 30 using a for loop.\n",
    "- If a number is greater than or equal to 30, print the number itself and also the string \"at least 30\"\n",
    "- If a number is less than 30, print the number itself and the string \"less than 30\""
   ]
  },
  {
   "cell_type": "code",
   "execution_count": 17,
   "metadata": {},
   "outputs": [
    {
     "name": "stdout",
     "output_type": "stream",
     "text": [
      "10 is less than 30\n",
      "23 is less than 30\n",
      "45 is greater than 30\n",
      "60 is greater than 30\n",
      "17 is less than 30\n"
     ]
    }
   ],
   "source": [
    "numbers = [10, 23, 45, 60, 17]\n",
    "\n",
    "for num in numbers:\n",
    "    if num >= 30:\n",
    "         print(num, \"is greater than 30\")\n",
    "    else:\n",
    "        print(num, \"is less than 30\")          \n"
   ]
  },
  {
   "cell_type": "markdown",
   "metadata": {},
   "source": [
    "## Q6\n",
    "1. Using list comprehension, create a new list where each number from \"numbers_2\" is divided by 2.\n",
    "2. Name the new list \"numbers_new\".\n",
    "3. Print the list.\n"
   ]
  },
  {
   "cell_type": "code",
   "execution_count": 20,
   "metadata": {},
   "outputs": [
    {
     "name": "stdout",
     "output_type": "stream",
     "text": [
      "[0.5, 1.0, 1.5, 2.0, 2.5, 3.0, 3.5, 4.0, 4.5, 5.0]\n"
     ]
    }
   ],
   "source": [
    "numbers_2 = [1, 2, 3, 4, 5, 6, 7, 8, 9, 10]\n",
    "numbers_new = [x/2 for x in numbers_2] \n",
    "print (numbers_new)\n"
   ]
  },
  {
   "cell_type": "markdown",
   "metadata": {},
   "source": [
    "## Q7\n",
    "\n",
    "You are given a dictionary named \"student_scores\".\n",
    "\n",
    "1. Add a new student Eva with a score of 80 to the dictionary\n",
    "2. Print the whole dictionary\n",
    "3. Print specifically Charlie's Score"
   ]
  },
  {
   "cell_type": "code",
   "execution_count": 28,
   "metadata": {},
   "outputs": [
    {
     "name": "stdout",
     "output_type": "stream",
     "text": [
      "{'Alice': 85, 'Bob': 92, 'Charlie': 78, 'Diana': 90, 'Eva': 80}\n",
      "78\n"
     ]
    }
   ],
   "source": [
    "student_scores = {\"Alice\": 85, \"Bob\": 92, \"Charlie\": 78, \"Diana\": 90}\n",
    "student_scores[\"Eva\"]=  80\n",
    "print (student_scores)\n",
    "print(student_scores['Charlie'])"
   ]
  },
  {
   "cell_type": "markdown",
   "metadata": {},
   "source": [
    "## Q8\n",
    "\n",
    "Write a function called \"sum_of_squares\" that takes a list of numbers as input and returns the sum of the squares of all the numbers in the list.\n",
    "For example, when running the following line of code, the output should be 14\n",
    "\n",
    "sum_of_squares([1, 2, 3])  # Output should be 14\n",
    "\n",
    "\n"
   ]
  },
  {
   "cell_type": "code",
   "execution_count": 35,
   "metadata": {},
   "outputs": [
    {
     "data": {
      "text/plain": [
       "14"
      ]
     },
     "execution_count": 35,
     "metadata": {},
     "output_type": "execute_result"
    }
   ],
   "source": [
    "# Define your function here\n",
    "def sum_of_squares (numbers):\n",
    "        return sum ([x**2 for x in numbers])\n",
    "\n",
    "\n",
    "\n",
    "# The following line should return 14\n",
    "sum_of_squares([1,2,3])"
   ]
  }
 ],
 "metadata": {
  "kernelspec": {
   "display_name": "mktg6234",
   "language": "python",
   "name": "python3"
  },
  "language_info": {
   "codemirror_mode": {
    "name": "ipython",
    "version": 3
   },
   "file_extension": ".py",
   "mimetype": "text/x-python",
   "name": "python",
   "nbconvert_exporter": "python",
   "pygments_lexer": "ipython3",
   "version": "3.12.5"
  }
 },
 "nbformat": 4,
 "nbformat_minor": 2
}
